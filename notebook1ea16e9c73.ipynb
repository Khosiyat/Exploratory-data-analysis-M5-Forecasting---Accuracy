{
 "cells": [
  {
   "cell_type": "markdown",
   "id": "prescribed-charter",
   "metadata": {
    "papermill": {
     "duration": 0.009284,
     "end_time": "2021-06-28T12:33:11.462101",
     "exception": false,
     "start_time": "2021-06-28T12:33:11.452817",
     "status": "completed"
    },
    "tags": []
   },
   "source": [
    "Exploratory data analysis | M5 Forecasting - Accuracy "
   ]
  },
  {
   "cell_type": "code",
   "execution_count": 1,
   "id": "occupied-valuable",
   "metadata": {
    "execution": {
     "iopub.execute_input": "2021-06-28T12:33:11.493630Z",
     "iopub.status.busy": "2021-06-28T12:33:11.492892Z",
     "iopub.status.idle": "2021-06-28T12:33:19.119054Z",
     "shell.execute_reply": "2021-06-28T12:33:19.119651Z",
     "shell.execute_reply.started": "2021-06-28T11:57:55.670324Z"
    },
    "papermill": {
     "duration": 7.649609,
     "end_time": "2021-06-28T12:33:19.119959",
     "exception": false,
     "start_time": "2021-06-28T12:33:11.470350",
     "status": "completed"
    },
    "tags": []
   },
   "outputs": [],
   "source": [
    "import pandas as pd\n",
    "import numpy as np\n",
    "from pathlib import Path\n",
    "import matplotlib.pyplot as plt\n",
    "import seaborn as sns\n",
    "from sklearn.linear_model import LinearRegression, Ridge\n",
    "from sklearn.ensemble import RandomForestRegressor\n",
    "from sklearn.preprocessing import StandardScaler, MinMaxScaler\n",
    "from sklearn.preprocessing import LabelEncoder, OneHotEncoder\n",
    "from sklearn.model_selection import train_test_split, StratifiedKFold, KFold\n",
    "from sklearn.model_selection import RandomizedSearchCV, GridSearchCV\n",
    "from sklearn.metrics import mean_squared_error\n",
    "from tensorflow.keras.models import Sequential\n",
    "from tensorflow.keras.layers import LSTM, Dense, Flatten, Dropout\n",
    "from tensorflow.keras.layers import LeakyReLU, PReLU, ELU"
   ]
  },
  {
   "cell_type": "code",
   "execution_count": 2,
   "id": "palestinian-reputation",
   "metadata": {
    "execution": {
     "iopub.execute_input": "2021-06-28T12:33:19.138924Z",
     "iopub.status.busy": "2021-06-28T12:33:19.138242Z",
     "iopub.status.idle": "2021-06-28T12:33:22.449096Z",
     "shell.execute_reply": "2021-06-28T12:33:22.448524Z",
     "shell.execute_reply.started": "2021-06-28T11:58:02.320646Z"
    },
    "papermill": {
     "duration": 3.321194,
     "end_time": "2021-06-28T12:33:22.449259",
     "exception": false,
     "start_time": "2021-06-28T12:33:19.128065",
     "status": "completed"
    },
    "tags": []
   },
   "outputs": [],
   "source": [
    "\n",
    "\n",
    "root_dir = Path('/kaggle/')\n",
    "dir_ = root_dir / 'input/competitive-data-science-predict-future-sales'\n",
    "list(dir_.glob('*'))\n",
    "#read files\n",
    "sales_train = pd.read_csv(dir_ / 'sales_train.csv')\n",
    "items_dataFrame = pd.read_csv(dir_ / 'items.csv')\n",
    "item_categories_dataFrame = pd.read_csv(dir_ / 'item_categories.csv')\n",
    "shop_dataFrame = pd.read_csv(dir_ / 'shops.csv')"
   ]
  },
  {
   "cell_type": "code",
   "execution_count": 3,
   "id": "arabic-controversy",
   "metadata": {
    "execution": {
     "iopub.execute_input": "2021-06-28T12:33:22.484827Z",
     "iopub.status.busy": "2021-06-28T12:33:22.484083Z",
     "iopub.status.idle": "2021-06-28T12:33:33.829692Z",
     "shell.execute_reply": "2021-06-28T12:33:33.829109Z",
     "shell.execute_reply.started": "2021-06-28T11:58:03.954353Z"
    },
    "papermill": {
     "duration": 11.372605,
     "end_time": "2021-06-28T12:33:33.829852",
     "exception": false,
     "start_time": "2021-06-28T12:33:22.457247",
     "status": "completed"
    },
    "tags": []
   },
   "outputs": [],
   "source": [
    "##################___Preprocessing Data\n",
    "\n",
    "#joining all the available csv files\n",
    "training_dataFRame = sales_train.join(items_dataFrame, on='item_id', how='outer', lsuffix='left_side', rsuffix='right_side')[['date', 'date_block_num', 'shop_id', 'item_id', 'item_price', 'item_cnt_day', 'item_name', 'item_category_id']]\n",
    "training_dataFRame = training_dataFRame.join(item_categories_dataFrame, on='item_category_id', how='outer', lsuffix='left_side', rsuffix='right_side')[['date', 'date_block_num', 'shop_id', 'item_id', 'item_price', 'item_cnt_day', 'item_name', 'item_category_id', 'item_category_name']]\n",
    "training_dataFRame = training_dataFRame.join(shop_dataFrame, on='shop_id', how='outer', lsuffix='left_side', rsuffix='right_side')[['date', 'date_block_num', 'shop_id', 'item_id', 'item_price', 'item_cnt_day', 'item_name', 'item_category_id', 'item_category_name', 'shop_name']]\n",
    "training_dataFRame.reset_index(drop=True, inplace=True)\n",
    "\n",
    "\n",
    "#Cleaning the data\n",
    "training_dataFRame.dropna(inplace=True)\n",
    "training_dataFRame.drop_duplicates(inplace=True)\n",
    "\n"
   ]
  },
  {
   "cell_type": "code",
   "execution_count": 4,
   "id": "twelve-november",
   "metadata": {
    "execution": {
     "iopub.execute_input": "2021-06-28T12:33:34.132281Z",
     "iopub.status.busy": "2021-06-28T12:33:34.131589Z",
     "iopub.status.idle": "2021-06-28T12:33:52.764138Z",
     "shell.execute_reply": "2021-06-28T12:33:52.763537Z",
     "shell.execute_reply.started": "2021-06-28T11:58:14.726692Z"
    },
    "papermill": {
     "duration": 18.926138,
     "end_time": "2021-06-28T12:33:52.764315",
     "exception": false,
     "start_time": "2021-06-28T12:33:33.838177",
     "status": "completed"
    },
    "tags": []
   },
   "outputs": [],
   "source": [
    "##################___ features are engeenered as modifying their fields and columns. \n",
    "training_dataFRame[['day', 'month', 'year']] = training_dataFRame.date.str.split('.', expand=True)#date columns are split into day/month/year.\n",
    "training_dataFRame.day = training_dataFRame.day.apply(lambda x: int(x))\n",
    "training_dataFRame.month = training_dataFRame.month.apply(lambda x: int(x))\n",
    "training_dataFRame.year = training_dataFRame.year.apply(lambda x: int(x))\n",
    "#statistical description o the columns\n"
   ]
  },
  {
   "cell_type": "code",
   "execution_count": 5,
   "id": "sonic-disaster",
   "metadata": {
    "execution": {
     "iopub.execute_input": "2021-06-28T12:33:52.797165Z",
     "iopub.status.busy": "2021-06-28T12:33:52.792945Z",
     "iopub.status.idle": "2021-06-28T12:33:58.920561Z",
     "shell.execute_reply": "2021-06-28T12:33:58.919968Z",
     "shell.execute_reply.started": "2021-06-28T12:28:48.078242Z"
    },
    "papermill": {
     "duration": 6.147659,
     "end_time": "2021-06-28T12:33:58.920750",
     "exception": false,
     "start_time": "2021-06-28T12:33:52.773091",
     "status": "completed"
    },
    "tags": []
   },
   "outputs": [
    {
     "ename": "NameError",
     "evalue": "name 'day_count' is not defined",
     "output_type": "error",
     "traceback": [
      "\u001b[0;31m---------------------------------------------------------------------------\u001b[0m",
      "\u001b[0;31mNameError\u001b[0m                                 Traceback (most recent call last)",
      "\u001b[0;32m<ipython-input-5-665132549f53>\u001b[0m in \u001b[0;36m<module>\u001b[0;34m\u001b[0m\n\u001b[1;32m      6\u001b[0m \u001b[0mmonth_group_count\u001b[0m\u001b[0;34m.\u001b[0m\u001b[0mcolumns\u001b[0m \u001b[0;34m=\u001b[0m \u001b[0;34m[\u001b[0m\u001b[0;34m'month'\u001b[0m\u001b[0;34m,\u001b[0m \u001b[0;34m'total_bill'\u001b[0m\u001b[0;34m]\u001b[0m\u001b[0;34m\u001b[0m\u001b[0;34m\u001b[0m\u001b[0m\n\u001b[1;32m      7\u001b[0m \u001b[0mday_group_and_count\u001b[0m \u001b[0;34m=\u001b[0m \u001b[0mtraining_dataFRame\u001b[0m\u001b[0;34m.\u001b[0m\u001b[0mgroupby\u001b[0m\u001b[0;34m(\u001b[0m\u001b[0;34m'day'\u001b[0m\u001b[0;34m)\u001b[0m\u001b[0;34m.\u001b[0m\u001b[0mcount\u001b[0m\u001b[0;34m(\u001b[0m\u001b[0;34m)\u001b[0m\u001b[0;34m.\u001b[0m\u001b[0mitem_id\u001b[0m\u001b[0;34m.\u001b[0m\u001b[0mreset_index\u001b[0m\u001b[0;34m(\u001b[0m\u001b[0;34m)\u001b[0m\u001b[0;34m\u001b[0m\u001b[0;34m\u001b[0m\u001b[0m\n\u001b[0;32m----> 8\u001b[0;31m \u001b[0mday_count\u001b[0m\u001b[0;34m.\u001b[0m\u001b[0mcolumns\u001b[0m \u001b[0;34m=\u001b[0m \u001b[0;34m[\u001b[0m\u001b[0;34m'day'\u001b[0m\u001b[0;34m,\u001b[0m \u001b[0;34m'total_bill'\u001b[0m\u001b[0;34m]\u001b[0m\u001b[0;34m\u001b[0m\u001b[0;34m\u001b[0m\u001b[0m\n\u001b[0m\u001b[1;32m      9\u001b[0m \u001b[0;31m#Visualize the bills according to data\u001b[0m\u001b[0;34m\u001b[0m\u001b[0;34m\u001b[0m\u001b[0;34m\u001b[0m\u001b[0m\n\u001b[1;32m     10\u001b[0m \u001b[0mfig\u001b[0m\u001b[0;34m,\u001b[0m \u001b[0maxes\u001b[0m \u001b[0;34m=\u001b[0m \u001b[0mplt\u001b[0m\u001b[0;34m.\u001b[0m\u001b[0msubplots\u001b[0m\u001b[0;34m(\u001b[0m\u001b[0;36m1\u001b[0m\u001b[0;34m,\u001b[0m \u001b[0;36m3\u001b[0m\u001b[0;34m,\u001b[0m \u001b[0mfigsize\u001b[0m\u001b[0;34m=\u001b[0m\u001b[0;34m(\u001b[0m\u001b[0;36m20\u001b[0m\u001b[0;34m,\u001b[0m \u001b[0;36m4\u001b[0m\u001b[0;34m)\u001b[0m\u001b[0;34m)\u001b[0m\u001b[0;34m\u001b[0m\u001b[0;34m\u001b[0m\u001b[0m\n",
      "\u001b[0;31mNameError\u001b[0m: name 'day_count' is not defined"
     ]
    }
   ],
   "source": [
    "training_dataFRame.describe()\n",
    "#groupby the dates\n",
    "year_group_count = training_dataFRame.groupby('year').count().item_id.reset_index()\n",
    "year_group_count.columns = ['year', 'total_bill']\n",
    "month_group_count = training_dataFRame.groupby('month').count().item_id.reset_index()\n",
    "month_group_count.columns = ['month', 'total_bill']\n",
    "day_group_and_count = training_dataFRame.groupby('day').count().item_id.reset_index()\n",
    "day_count.columns = ['day', 'total_bill']\n",
    "#Visualize the bills according to data\n",
    "fig, axes = plt.subplots(1, 3, figsize=(20, 4))\n",
    "sb.barplot(x='year', y='total_bill', data=year_group_count, ax=axes[0])\n",
    "sb.barplot(x='month', y='total_bill', data=month_group_count, ax=axes[1])\n",
    "sb.barplot(x='day', y='total_bill', data=day_count, ax=axes[2])\n",
    "plt.xkcd()\n",
    "\n",
    "\n",
    "\n",
    "#groupby the date block num\n",
    "date_block_count = training_dataFRame.groupby('date_block_num').count().item_id.reset_index()\n",
    "#Visualize the blocked date and total bill\n",
    "date_block_count.columns = ['date_block', 'total_bill']\n",
    "fig = plt.figure(figsize=(12, 4))\n",
    "ax = fig.add_axes([0, 0, 1, 1])\n",
    "sb.barplot(x='date_block', y='total_bill', data=date_block_count, ax=ax)\n",
    "plt.gcf().autofmt_xdate()\n",
    "plt.legend()\n",
    "plt.xlabel('Amount of Date block')\n",
    "plt.ylabel(\"Total amount of Bill\")\n",
    "plt.title(\"Total Bill\")\n",
    "\n",
    "plt.style.use('seaborn')\n",
    "plt.xkcd()\n",
    "#test dataFrame for ML\n",
    "test_dataFrame = pd.read_csv(dir_ / 'test.csv')"
   ]
  },
  {
   "cell_type": "code",
   "execution_count": null,
   "id": "respective-emergency",
   "metadata": {
    "papermill": {
     "duration": 0.008046,
     "end_time": "2021-06-28T12:33:58.937935",
     "exception": false,
     "start_time": "2021-06-28T12:33:58.929889",
     "status": "completed"
    },
    "tags": []
   },
   "outputs": [],
   "source": []
  },
  {
   "cell_type": "code",
   "execution_count": null,
   "id": "pediatric-cache",
   "metadata": {
    "papermill": {
     "duration": 0.008102,
     "end_time": "2021-06-28T12:33:58.954470",
     "exception": false,
     "start_time": "2021-06-28T12:33:58.946368",
     "status": "completed"
    },
    "tags": []
   },
   "outputs": [],
   "source": []
  },
  {
   "cell_type": "code",
   "execution_count": null,
   "id": "permanent-madonna",
   "metadata": {
    "papermill": {
     "duration": 0.009435,
     "end_time": "2021-06-28T12:33:58.972437",
     "exception": false,
     "start_time": "2021-06-28T12:33:58.963002",
     "status": "completed"
    },
    "tags": []
   },
   "outputs": [],
   "source": []
  }
 ],
 "metadata": {
  "kernelspec": {
   "display_name": "Python 3",
   "language": "python",
   "name": "python3"
  },
  "language_info": {
   "codemirror_mode": {
    "name": "ipython",
    "version": 3
   },
   "file_extension": ".py",
   "mimetype": "text/x-python",
   "name": "python",
   "nbconvert_exporter": "python",
   "pygments_lexer": "ipython3",
   "version": "3.7.10"
  },
  "papermill": {
   "default_parameters": {},
   "duration": 57.94508,
   "end_time": "2021-06-28T12:34:00.511218",
   "environment_variables": {},
   "exception": null,
   "input_path": "__notebook__.ipynb",
   "output_path": "__notebook__.ipynb",
   "parameters": {},
   "start_time": "2021-06-28T12:33:02.566138",
   "version": "2.3.3"
  }
 },
 "nbformat": 4,
 "nbformat_minor": 5
}
